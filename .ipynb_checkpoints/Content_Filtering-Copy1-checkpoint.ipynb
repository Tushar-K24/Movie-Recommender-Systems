{
 "cells": [
  {
   "cell_type": "code",
   "execution_count": 1,
   "metadata": {},
   "outputs": [],
   "source": [
    "import numpy as np\n",
    "import pandas as pd\n",
    "import streamlit as st"
   ]
  },
  {
   "cell_type": "code",
   "execution_count": 2,
   "metadata": {},
   "outputs": [],
   "source": [
    "movies_df=pd.read_csv('tmdb_5000_movies.csv')\n",
    "credits_df=pd.read_csv('tmdb_5000_credits.csv')"
   ]
  },
  {
   "cell_type": "code",
   "execution_count": 3,
   "metadata": {},
   "outputs": [],
   "source": [
    "credits_df.rename(columns={'movie_id':'id'},inplace=True)\n",
    "merged_df=movies_df.merge(credits_df, on='id')"
   ]
  },
  {
   "cell_type": "code",
   "execution_count": 4,
   "metadata": {},
   "outputs": [],
   "source": [
    "merged_df[['overview','tagline']]=merged_df[['overview','tagline']].fillna('')"
   ]
  },
  {
   "cell_type": "code",
   "execution_count": 5,
   "metadata": {},
   "outputs": [],
   "source": [
    "features=['homepage','production_countries','release_date','runtime','title_y','original_title']\n",
    "merged_df.drop(features, axis=1, inplace=True)\n",
    "merged_df=merged_df.rename(columns={'title_x':'title'})"
   ]
  },
  {
   "cell_type": "code",
   "execution_count": 6,
   "metadata": {},
   "outputs": [],
   "source": [
    "categories={\n",
    "    \"status\":{\"Released\":0, \"Post Production\":1,\"Rumored\":2}\n",
    "}\n",
    "merged_df=merged_df.replace(categories)"
   ]
  },
  {
   "cell_type": "code",
   "execution_count": 7,
   "metadata": {},
   "outputs": [
    {
     "name": "stderr",
     "output_type": "stream",
     "text": [
      "2021-07-16 18:12:19.875 INFO    numexpr.utils: NumExpr defaulting to 8 threads.\n"
     ]
    }
   ],
   "source": [
    "r=merged_df['vote_average']\n",
    "v=merged_df['vote_count']\n",
    "c=r.mean()\n",
    "m=v.quantile(.90)\n",
    "merged_df['weighted_rating']=(r*v + c*m)/(v+m)"
   ]
  },
  {
   "cell_type": "code",
   "execution_count": 8,
   "metadata": {},
   "outputs": [],
   "source": [
    "std_popularity = merged_df['popularity'].std()\n",
    "std_rating = merged_df['weighted_rating'].std()\n",
    "merged_df['popularity_norm'] = merged_df['popularity']/std_popularity\n",
    "merged_df['rating_norm'] = merged_df['weighted_rating']/std_rating\n",
    "merged_df['score'] = (merged_df['popularity_norm'] + merged_df['rating_norm'])/2"
   ]
  },
  {
   "cell_type": "code",
   "execution_count": 9,
   "metadata": {},
   "outputs": [],
   "source": [
    "from ast import literal_eval\n",
    "\n",
    "features=['genres','keywords','production_companies','cast','crew']\n",
    "for feature in features:\n",
    "    merged_df[feature]=merged_df[feature].apply(literal_eval)"
   ]
  },
  {
   "cell_type": "code",
   "execution_count": 10,
   "metadata": {},
   "outputs": [],
   "source": [
    "#extracting the director of the movie\n",
    "def extract_director(crew):\n",
    "    for i in crew:\n",
    "        if i['job']=='Director':\n",
    "            return i['name'];\n",
    "    return np.nan #Nan if no director"
   ]
  },
  {
   "cell_type": "code",
   "execution_count": 11,
   "metadata": {},
   "outputs": [],
   "source": [
    "#extracting top 3 elements from each list\n",
    "def get_top3(x):\n",
    "    if isinstance(x,list):\n",
    "        names=[i['name'] for i in x]\n",
    "        if len(names)>3:\n",
    "            return names[:3]\n",
    "        return names\n",
    "    return []"
   ]
  },
  {
   "cell_type": "code",
   "execution_count": 12,
   "metadata": {},
   "outputs": [],
   "source": [
    "#extract cast\n",
    "def extract_cast(x):\n",
    "    if isinstance(x,list):\n",
    "        male=[i['name'] for i in x if i['gender']==2]\n",
    "        female=[i['name'] for i in x if i['gender']==1]\n",
    "        names=[]\n",
    "        if len(male)>3:\n",
    "            names.extend(male[:3])\n",
    "        else:\n",
    "            names.extend(male)\n",
    "        if len(female)>3:\n",
    "            names.extend(female[:3])\n",
    "        else:\n",
    "            names.extend(female)\n",
    "        return names\n",
    "    return []"
   ]
  },
  {
   "cell_type": "code",
   "execution_count": 13,
   "metadata": {},
   "outputs": [],
   "source": [
    "def remove_word_spaces(x):\n",
    "    if isinstance(x,list):\n",
    "        return [str.lower(i.replace(' ','')) for i in x]\n",
    "    else: #must come from the director\n",
    "        if isinstance(x,str):\n",
    "            return str.lower(x.replace(' ',''))\n",
    "        return '' #no director"
   ]
  },
  {
   "cell_type": "code",
   "execution_count": 14,
   "metadata": {},
   "outputs": [],
   "source": [
    "#for overview and tagline\n",
    "def remove_capital_letters(x):\n",
    "    if isinstance(x,str):\n",
    "        return str.lower(x)\n",
    "    return ''"
   ]
  },
  {
   "cell_type": "code",
   "execution_count": 15,
   "metadata": {},
   "outputs": [],
   "source": [
    "merged_df['director']=merged_df['crew'].apply(extract_director)\n",
    "features=['genres','keywords','production_companies']\n",
    "for feature in features:\n",
    "    merged_df[feature]=merged_df[feature].apply(get_top3)\n",
    "merged_df['cast']=merged_df['cast'].apply(extract_cast)"
   ]
  },
  {
   "cell_type": "code",
   "execution_count": 16,
   "metadata": {},
   "outputs": [],
   "source": [
    "features=['genres','keywords','production_companies','cast','director']\n",
    "for feature in features:\n",
    "    merged_df[feature] = merged_df[feature].apply(remove_word_spaces)"
   ]
  },
  {
   "cell_type": "code",
   "execution_count": 17,
   "metadata": {},
   "outputs": [],
   "source": [
    "features=['overview','tagline']\n",
    "for feature in features:\n",
    "    merged_df[feature] = merged_df[feature].apply(remove_capital_letters)"
   ]
  },
  {
   "cell_type": "code",
   "execution_count": 18,
   "metadata": {},
   "outputs": [],
   "source": [
    "def create_string(x):\n",
    "    return (' '.join(x['genres']) + ' ' \n",
    "            + ' '.join(x['cast']) + ' '\n",
    "            + ' '.join(x['keywords']) + ' ' \n",
    "            + x['director'] + ' '\n",
    "            + x['overview'] + ' ' \n",
    "            #+ x['tagline']\n",
    "           )\n",
    "merged_df['word_string']=merged_df.apply(create_string,axis=1)"
   ]
  },
  {
   "cell_type": "code",
   "execution_count": 19,
   "metadata": {},
   "outputs": [],
   "source": [
    "from sklearn.feature_extraction.text import TfidfVectorizer\n",
    "\n",
    "count = TfidfVectorizer(stop_words='english')\n",
    "count_matrix = count.fit_transform(merged_df['word_string'])"
   ]
  },
  {
   "cell_type": "code",
   "execution_count": 20,
   "metadata": {},
   "outputs": [],
   "source": [
    "from sklearn.metrics.pairwise import cosine_similarity\n",
    "\n",
    "cosine_sim = cosine_similarity(count_matrix, count_matrix)"
   ]
  },
  {
   "cell_type": "code",
   "execution_count": 21,
   "metadata": {},
   "outputs": [],
   "source": [
    "merged_df = merged_df.reset_index()\n",
    "indices = pd.Series(merged_df.index, index=merged_df['title'])"
   ]
  },
  {
   "cell_type": "code",
   "execution_count": 22,
   "metadata": {},
   "outputs": [],
   "source": [
    "def get_recommendations(title, cosine_sim=cosine_sim):\n",
    "    idx=indices[title]\n",
    "    similarity=list(enumerate(cosine_sim[idx]))\n",
    "    similarity.sort(key=lambda x:x[1],reverse=True)\n",
    "    similarity=similarity[1:11] # first movie will be the same\n",
    "    recommended_movies=[i[0] for i in similarity]\n",
    "    return recommended_movies"
   ]
  },
  {
   "cell_type": "code",
   "execution_count": 23,
   "metadata": {},
   "outputs": [
    {
     "name": "stdout",
     "output_type": "stream",
     "text": [
      "The Dark Knight Rises\n",
      "Batman Returns\n",
      "Batman: The Dark Knight Returns, Part 2\n",
      "Batman Begins\n",
      "Batman Forever\n",
      "Batman\n",
      "Batman v Superman: Dawn of Justice\n",
      "Batman & Robin\n",
      "Slow Burn\n",
      "JFK\n"
     ]
    }
   ],
   "source": [
    "indexes=get_recommendations('The Dark Knight')\n",
    "for idx in indexes:\n",
    "    print(merged_df['title'].iloc[idx])"
   ]
  },
  {
   "cell_type": "code",
   "execution_count": 24,
   "metadata": {},
   "outputs": [
    {
     "name": "stdout",
     "output_type": "stream",
     "text": [
      "Pirates of the Caribbean: Dead Man's Chest\n",
      "Pirates of the Caribbean: The Curse of the Black Pearl\n",
      "My Blueberry Nights\n",
      "The Three Musketeers\n",
      "Pirates of the Caribbean: On Stranger Tides\n",
      "Sphere\n",
      "What's Love Got to Do with It\n",
      "The Life Aquatic with Steve Zissou\n",
      "Disturbia\n",
      "The Descendants\n"
     ]
    }
   ],
   "source": [
    "indexes=get_recommendations('Pirates of the Caribbean: At World\\'s End')\n",
    "for idx in indexes:\n",
    "    print(merged_df['title'].iloc[idx])"
   ]
  }
 ],
 "metadata": {
  "kernelspec": {
   "display_name": "Python 3",
   "language": "python",
   "name": "python3"
  },
  "language_info": {
   "codemirror_mode": {
    "name": "ipython",
    "version": 3
   },
   "file_extension": ".py",
   "mimetype": "text/x-python",
   "name": "python",
   "nbconvert_exporter": "python",
   "pygments_lexer": "ipython3",
   "version": "3.8.8"
  }
 },
 "nbformat": 4,
 "nbformat_minor": 2
}
